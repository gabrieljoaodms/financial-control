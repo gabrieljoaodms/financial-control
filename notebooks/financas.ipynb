{
 "cells": [
  {
   "cell_type": "code",
   "execution_count": 2,
   "id": "04708296",
   "metadata": {},
   "outputs": [],
   "source": [
    "import pandas as pd\n",
    "from dotenv import load_dotenv\n",
    "import os\n",
    "from sqlalchemy import create_engine"
   ]
  },
  {
   "cell_type": "code",
   "execution_count": 3,
   "id": "b5990291",
   "metadata": {},
   "outputs": [],
   "source": [
    "load_dotenv()\n",
    "db = create_engine(os.getenv(\"DL_STRING\"))"
   ]
  },
  {
   "cell_type": "code",
   "execution_count": 4,
   "id": "ce4d15fa",
   "metadata": {},
   "outputs": [
    {
     "data": {
      "text/html": [
       "<div>\n",
       "<style scoped>\n",
       "    .dataframe tbody tr th:only-of-type {\n",
       "        vertical-align: middle;\n",
       "    }\n",
       "\n",
       "    .dataframe tbody tr th {\n",
       "        vertical-align: top;\n",
       "    }\n",
       "\n",
       "    .dataframe thead th {\n",
       "        text-align: right;\n",
       "    }\n",
       "</style>\n",
       "<table border=\"1\" class=\"dataframe\">\n",
       "  <thead>\n",
       "    <tr style=\"text-align: right;\">\n",
       "      <th></th>\n",
       "      <th>usuario</th>\n",
       "      <th>senha</th>\n",
       "    </tr>\n",
       "  </thead>\n",
       "  <tbody>\n",
       "    <tr>\n",
       "      <th>0</th>\n",
       "      <td>joaogabriel</td>\n",
       "      <td>$2a$06$y2tg4/z5ZTPpkxmN7dCWm.OO8O99pGdakspfjMD...</td>\n",
       "    </tr>\n",
       "    <tr>\n",
       "      <th>1</th>\n",
       "      <td>carollage</td>\n",
       "      <td>$2a$06$sHnyBC.DdFrp9ggF0kyIcebeHofo0Y49KLoa3Nj...</td>\n",
       "    </tr>\n",
       "  </tbody>\n",
       "</table>\n",
       "</div>"
      ],
      "text/plain": [
       "       usuario                                              senha\n",
       "0  joaogabriel  $2a$06$y2tg4/z5ZTPpkxmN7dCWm.OO8O99pGdakspfjMD...\n",
       "1    carollage  $2a$06$sHnyBC.DdFrp9ggF0kyIcebeHofo0Y49KLoa3Nj..."
      ]
     },
     "execution_count": 4,
     "metadata": {},
     "output_type": "execute_result"
    }
   ],
   "source": [
    "pd.read_sql('SELECT * FROM login', con =db)"
   ]
  },
  {
   "attachments": {},
   "cell_type": "markdown",
   "id": "c041517e",
   "metadata": {},
   "source": [
    "# Dataframe Categorias"
   ]
  },
  {
   "cell_type": "code",
   "execution_count": 6,
   "id": "fbf65b75",
   "metadata": {},
   "outputs": [
    {
     "data": {
      "text/html": [
       "<div>\n",
       "<style scoped>\n",
       "    .dataframe tbody tr th:only-of-type {\n",
       "        vertical-align: middle;\n",
       "    }\n",
       "\n",
       "    .dataframe tbody tr th {\n",
       "        vertical-align: top;\n",
       "    }\n",
       "\n",
       "    .dataframe thead th {\n",
       "        text-align: right;\n",
       "    }\n",
       "</style>\n",
       "<table border=\"1\" class=\"dataframe\">\n",
       "  <thead>\n",
       "    <tr style=\"text-align: right;\">\n",
       "      <th></th>\n",
       "      <th>categoria</th>\n",
       "    </tr>\n",
       "  </thead>\n",
       "  <tbody>\n",
       "  </tbody>\n",
       "</table>\n",
       "</div>"
      ],
      "text/plain": [
       "Empty DataFrame\n",
       "Columns: [categoria]\n",
       "Index: []"
      ]
     },
     "execution_count": 6,
     "metadata": {},
     "output_type": "execute_result"
    }
   ],
   "source": [
    "categorias = pd.DataFrame(columns = ['categoria'])\n",
    "categorias"
   ]
  },
  {
   "cell_type": "code",
   "execution_count": 7,
   "id": "1f27bcc4",
   "metadata": {},
   "outputs": [],
   "source": [
    "categorias['categoria'] = ['alimentação', 'dizimo/oferta', 'transporte']"
   ]
  },
  {
   "cell_type": "code",
   "execution_count": 9,
   "id": "50711053",
   "metadata": {},
   "outputs": [
    {
     "data": {
      "text/plain": [
       "3"
      ]
     },
     "execution_count": 9,
     "metadata": {},
     "output_type": "execute_result"
    }
   ],
   "source": [
    "categorias.to_sql('categoria_saida', if_exists = 'append' , con = db, index = False)"
   ]
  },
  {
   "cell_type": "code",
   "execution_count": null,
   "id": "e13e5b95",
   "metadata": {},
   "outputs": [],
   "source": []
  }
 ],
 "metadata": {
  "kernelspec": {
   "display_name": "Python 3 (ipykernel)",
   "language": "python",
   "name": "python3"
  },
  "language_info": {
   "codemirror_mode": {
    "name": "ipython",
    "version": 3
   },
   "file_extension": ".py",
   "mimetype": "text/x-python",
   "name": "python",
   "nbconvert_exporter": "python",
   "pygments_lexer": "ipython3",
   "version": "3.9.12"
  }
 },
 "nbformat": 4,
 "nbformat_minor": 5
}
